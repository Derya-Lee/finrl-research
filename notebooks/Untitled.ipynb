{
 "cells": [
  {
   "cell_type": "code",
   "execution_count": 1,
   "id": "883f4166-3df1-44a8-8ae0-e81025a270bc",
   "metadata": {},
   "outputs": [],
   "source": [
    "import os\n",
    "import pandas as pd\n",
    "import sys\n",
    "\n",
    "sys.path.append(\"..\")\n",
    "from pathlib import Path\n",
    "\n",
    "notebook_path = Path().resolve()\n",
    "current_dir = notebook_path.parent\n",
    "report_path = os.path.join(current_dir, \"report\")\n",
    "\n",
    "# phase 1-3 results\n",
    "reporting_data = os.path.join(report_path, \"data\")\n",
    "\n",
    "# analysis results\n",
    "reporting_results_path = os.path.join(report_path, \"results\")\n",
    "\n",
    "# descriptive analysis file \n",
    "voltur_stats_file = os.path.join(reporting_results_path, \"voltur_wind_stats.csv\")\n",
    "voltur_corr_file =  os.path.join(reporting_results_path, \"voltur_all_window_correlations.csv\") \n",
    "\n"
   ]
  },
  {
   "cell_type": "code",
   "execution_count": null,
   "id": "0cff3a5b-2e35-4f4d-9d2d-7c9c56be24df",
   "metadata": {},
   "outputs": [],
   "source": []
  }
 ],
 "metadata": {
  "kernelspec": {
   "display_name": "Python 3 (ipykernel)",
   "language": "python",
   "name": "python3"
  },
  "language_info": {
   "codemirror_mode": {
    "name": "ipython",
    "version": 3
   },
   "file_extension": ".py",
   "mimetype": "text/x-python",
   "name": "python",
   "nbconvert_exporter": "python",
   "pygments_lexer": "ipython3",
   "version": "3.10.13"
  }
 },
 "nbformat": 4,
 "nbformat_minor": 5
}
