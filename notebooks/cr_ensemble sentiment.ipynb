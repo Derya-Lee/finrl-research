{
 "cells": [
  {
   "cell_type": "code",
   "execution_count": 1,
   "id": "0cc77353-a99f-4823-b81b-41c88462d655",
   "metadata": {},
   "outputs": [],
   "source": [
    "# Deep Reinforcement Learning for Automated Stock Trading – for Crypto\n",
    "\n",
    "### 📊 Summary of Crypto DRL Ensemble Trading\n",
    "\n",
    "# This notebook implements a deep reinforcement learning ensemble strategy adapted from the ICAIF 2020 paper, applied to cryptocurrency trading.\n",
    "\n",
    "#- **Assets Used**: BTC, ETH, BNB, XRP\n",
    "#- **Time Period**: 2018 to 2024, with rolling windows\n",
    "#- **Agents Used**: PPO, A2C, DDPG (Stable-Baselines3)\n",
    "#- **Strategy**:\n",
    "#  - Train each agent on a rolling window (e.g. 6 months)\n",
    "#   - Validate on 2 months of unseen data\n",
    "#   - Select the model with the highest Sharpe ratio\n",
    "#   - Trade using the best model for 2 months\n",
    "# - **Objective**: Observe the effectiveness of the agents using the ensemble strategy.\n"
   ]
  },
  {
   "cell_type": "code",
   "execution_count": 2,
   "id": "27e157d9-cf01-4ade-8969-f0467ca04c30",
   "metadata": {
    "scrolled": true
   },
   "outputs": [],
   "source": [
    "import os\n",
    "import pandas as pd\n",
    "import sys\n",
    "\n",
    "sys.path.append(\"..\")\n",
    "\n",
    "from finrl.utils.rolling_windows import get_rolling_windows\n",
    "from finrl.pipeline.windows import run_training_windows\n",
    "from finrl.meta.preprocessor.preprocessors import FeatureEngineer\n",
    "from finrl.meta.preprocessor.binancedownloader import BinanceDownloader\n",
    "from finrl.meta.preprocessor.binancedownloader import BinanceDownloader\n"
   ]
  },
  {
   "cell_type": "code",
   "execution_count": 3,
   "id": "08168239-2ea4-49f9-8f2c-96565120e0e2",
   "metadata": {
    "scrolled": true
   },
   "outputs": [
    {
     "name": "stdout",
     "output_type": "stream",
     "text": [
      "Done...Retrieved raw data from file\n"
     ]
    }
   ],
   "source": [
    "import os\n",
    "from pathlib import Path\n",
    "\n",
    "data_path = \"../data/binance_less_raw.csv\"\n",
    "\n",
    "# current_dir = os.path.dirname(__file__)\n",
    "notebook_path = Path().resolve()\n",
    "current_dir = notebook_path.parent\n",
    "data_path = os.path.join(current_dir, \"data\")\n",
    "results_path = os.path.join(current_dir, \"results\")\n",
    "file_name = \"binance_data_raw.csv\"\n",
    "dt_raw_path = os.path.join(data_path, file_name)\n",
    "# dt_processed_path = os.path.join(data_path, \"processed_bnc_data.csv\")\n",
    "\n",
    "# **\n",
    "dt_sentiment_path = os.path.join(data_path, \"sentiment_bnc_data.csv\")\n",
    "\n",
    "\n",
    "tickers = [\"BTCUSDT\", \"ETHUSDT\", \"BNBUSDT\", \"SOLUSDT\", \"XRPUSDT\"]\n",
    "\n",
    "# tickers = [\"BTCUSDT\", \"ETHUSDT\"]\n",
    "\n",
    "# NOTE: change to get and write following updates to ticker list\n",
    "# bd = BinanceDownloader()\n",
    "# df_raw = bd.download_multiple(ticker_list=tickers, start_str=\"1 Jan, 2018\")\n",
    "# df_raw.to_csv(dt_raw_path, index=False)\n",
    "\n",
    "df_raw = pd.read_csv(dt_raw_path, parse_dates=[\"date\"])\n",
    "# print(\"Data saved to:\", data_path)\n",
    "\n",
    "print(\"Done...Retrieved raw data from file\")\n"
   ]
  },
  {
   "cell_type": "code",
   "execution_count": 4,
   "id": "9cf5ab53-333a-4c5e-b22e-301b5bced827",
   "metadata": {},
   "outputs": [
    {
     "name": "stderr",
     "output_type": "stream",
     "text": [
      "/home/derya/finrl_research/notebooks/../finrl/utils/fear_and_greed.py:13: FutureWarning: The behavior of 'to_datetime' with 'unit' when parsing strings is deprecated. In a future version, strings will be parsed as datetime strings, matching the behavior without a 'unit'. To retain the old behavior, explicitly cast ints or floats to numeric type before calling to_datetime.\n",
      "  df[\"timestamp\"] = pd.to_datetime(df[\"timestamp\"], unit=\"s\")\n",
      "/home/derya/finrl_research/notebooks/../finrl/meta/preprocessor/preprocessors.py:178: FutureWarning: Series.fillna with 'method' is deprecated and will raise in a future version. Use obj.ffill() or obj.bfill() instead.\n",
      "  df[\"fear_greed\"] = df[\"fear_greed\"].fillna(method=\"ffill\")\n"
     ]
    }
   ],
   "source": [
    "from finrl.config import LOOKBACK_DAYS\n",
    "\n",
    "\n",
    "fe = FeatureEngineer(use_technical_indicator=False, use_fear_greed=True)\n",
    "\n",
    "# ** NOTE Processed data with sentiment  adding 3 columns  fear_greed (as from API)  fear_greed_norm (normalised)  fear_greed_mapped (categorised)\n",
    "# sen_processed = pd.read_csv(dt_processed_path, parse_dates=[\"date\"])\n",
    "sen_processed = fe.preprocess_data(df_raw) \n",
    "sen_processed.to_csv(dt_sentiment_path, index=False)\n",
    "\n",
    "\n"
   ]
  },
  {
   "cell_type": "code",
   "execution_count": 5,
   "id": "291a0a2c-10ae-4c75-a844-36f9f3e0a57f",
   "metadata": {},
   "outputs": [],
   "source": [
    "# from finrl.utils.calculate_turbulence_crypto import add_turbulence_and_volatility\n",
    "# df_featured = add_turbulence_and_volatility(df_processed, turbulence_lookback=LOOKBACK_DAYS, vol_lookback=30) "
   ]
  },
  {
   "cell_type": "code",
   "execution_count": 9,
   "id": "e7d41cd8-358a-4691-a2d3-6adb3138bcda",
   "metadata": {},
   "outputs": [
    {
     "name": "stdout",
     "output_type": "stream",
     "text": [
      "Created 22 rolling windows.\n",
      "Generated 22 rolling windows from 2020-05-04 to 2025-05-31.\n"
     ]
    }
   ],
   "source": [
    "from finrl.config import TRAIN_LEN, VAL_LEN, TRADE_LEN, TRAIN_START_DATE, TRADE_END_DATE\n",
    "\n",
    "start_date = pd.Timestamp(TRAIN_START_DATE)\n",
    "end_date = pd.Timestamp(TRADE_END_DATE)\n",
    "\n",
    "windows = get_rolling_windows(\n",
    "    train_months=12,\n",
    "    val_months=1,\n",
    "    trade_months=1,\n",
    "    start_date_str=start_date,\n",
    "    end_date_str=end_date,\n",
    "    lookback_days= 60,\n",
    ")\n",
    "\n",
    "print(f\"Generated {len(windows)} rolling windows from {TRAIN_START_DATE} to {TRADE_END_DATE}.\")\n",
    "\n"
   ]
  },
  {
   "cell_type": "code",
   "execution_count": 10,
   "id": "bc10bde6-30fa-414d-b659-1a26f61e2893",
   "metadata": {},
   "outputs": [],
   "source": [
    "from stable_baselines3.common.vec_env import DummyVecEnv\n",
    "from finrl.pipeline.plot_values import plot_dashboard #plot_account_values, plot_counts_rewards, plot_volatility_return, plot_sharp_window\n",
    "from finrl.meta.preprocessor.preprocessors import data_split\n",
    "from finrl.meta.env_crypto_trading.env_cryptotrading import CryptoTradingEnv\n",
    "from finrl.agents.stablebaselines3.models import DRLAgent\n",
    "from finrl.plot.plot import get_daily_return  \n",
    "\n",
    "import numpy as np"
   ]
  },
  {
   "cell_type": "markdown",
   "id": "2e1b61ed-2a05-4450-9ef7-78bdde395598",
   "metadata": {},
   "source": [
    "## from finrl.plot import get_daily_return\n",
    "\n",
    "account_values = df_result[\"account_value\"]\n",
    "daily_returns = get_daily_return(account_values)\n",
    "\n",
    "sharpe = (252**0.5) * daily_returns.mean() / daily_returns.std()\n",
    "total_return = account_values.iloc[-1] / account_values.iloc[0] - 1\n",
    "volatility = daily_returns.std()\n",
    "max_drawdown = (account_values.cummax() - account_values).max() / account_values.cummax().max()\n",
    "\n",
    "\n",
    "df_final = pd.concat(results)\n",
    "backtest_stats(df_final)\n",
    "backtest_plot(df_final)"
   ]
  },
  {
   "cell_type": "code",
   "execution_count": 11,
   "id": "e93a870d-60fa-4c48-bdc6-b3e15f5411a6",
   "metadata": {},
   "outputs": [],
   "source": [
    "from finrl.config import model_configs, LOOKBACK_DAYS\n",
    "# files for reporting featured / ie turbulence and volatility trading results\n",
    "\n",
    "sen_trade_results_path = os.path.join(results_path, \"sen_trading_metrix.csv\")\n",
    "sen_daily_accounts_path = os.path.join(results_path, \"sen_account_values.csv\")"
   ]
  },
  {
   "cell_type": "code",
   "execution_count": null,
   "id": "c308d7b0-e5ec-433b-b1c8-2ecedd5e6648",
   "metadata": {},
   "outputs": [
    {
     "name": "stdout",
     "output_type": "stream",
     "text": [
      " Rolling window_1: 2020-05-04 to 2021-11-01\n",
      " Rolling window_2: 2020-07-04 to 2022-01-01\n",
      " Rolling window_3: 2020-09-04 to 2022-03-03\n",
      " Rolling window_4: 2020-11-04 to 2022-04-30\n",
      " Rolling window_5: 2021-01-04 to 2022-07-03\n",
      " Rolling window_6: 2021-03-04 to 2022-08-31\n",
      "[EVAL] Sharpe Debug: No volatility or insufficient data.\n",
      " Rolling window_7: 2021-05-04 to 2022-11-01\n",
      " Rolling window_8: 2021-07-04 to 2023-01-01\n",
      " Rolling window_9: 2021-09-04 to 2023-03-03\n",
      " Rolling window_10: 2021-11-04 to 2023-04-30\n",
      "[EVAL] Sharpe Debug: No volatility or insufficient data.\n",
      " Rolling window_11: 2022-01-04 to 2023-07-03\n",
      " Rolling window_12: 2022-03-04 to 2023-08-31\n",
      " Rolling window_13: 2022-05-04 to 2023-11-01\n",
      " Rolling window_14: 2022-07-04 to 2024-01-01\n",
      " Rolling window_15: 2022-09-04 to 2024-03-02\n",
      " Rolling window_16: 2022-11-04 to 2024-04-30\n",
      " Rolling window_17: 2023-01-04 to 2024-07-02\n",
      "[EVAL] Sharpe Debug: No volatility or insufficient data.\n",
      " Rolling window_18: 2023-03-04 to 2024-08-31\n",
      " Rolling window_19: 2023-05-04 to 2024-11-01\n",
      " Rolling window_20: 2023-07-04 to 2025-01-01\n",
      " Rolling window_21: 2023-09-04 to 2025-03-03\n",
      "[EVAL] Sharpe Debug: No volatility or insufficient data.\n",
      " Rolling window_22: 2023-11-04 to 2025-04-30\n"
     ]
    }
   ],
   "source": [
    "from finrl.utils.compute_sharpe_metrics import compute_sharpe_metrics\n",
    "from finrl.utils.compute_sortino_ratio import compute_sortino_ratio\n",
    "\n",
    "performance_log = []\n",
    "\n",
    "PPO_model_kwargs = model_configs[\"PPO\"]\n",
    "A2C_model_kwargs = model_configs[\"A2C\"]\n",
    "DDPG_model_kwargs = model_configs[\"DDPG\"]\n",
    "\n",
    "for i, (train_start, train_end, val_start, val_end, trade_start, trade_end) in enumerate(windows):\n",
    "      \n",
    "        train_data = data_split(sen_processed, train_start, train_end)\n",
    "        val_data = data_split(sen_processed, val_start, val_end)\n",
    "        trade_data = data_split(sen_processed, trade_start, trade_end)\n",
    "        \n",
    "        window_name = f\"window_{i+1}\"\n",
    "        print(f\" Rolling {window_name}: {train_start.date()} to {trade_end.date()}\")\n",
    "\n",
    "        #** NOTE: use featured flag when combined with sentiment\n",
    "        # env_train = DummyVecEnv([lambda: CryptoTradingEnv(train_data, featured=True)])\n",
    "\n",
    "        env_train = DummyVecEnv([lambda: CryptoTradingEnv(train_data, sentiment=True)])\n",
    "        agent = DRLAgent(env=env_train)\n",
    "\n",
    "        models = {\n",
    "            \"ppo\": agent.train_PPO(total_timesteps=len(train_data)*30, model_kwargs=PPO_model_kwargs),\n",
    "            \"a2c\": agent.train_A2C(total_timesteps=len(train_data)*30, model_kwargs=A2C_model_kwargs),\n",
    "            \"ddpg\": agent.train_DDPG(total_timesteps=int(len(train_data)*30*0.5), model_kwargs=DDPG_model_kwargs)\n",
    "        }\n",
    "\n",
    "        best_model = None\n",
    "        best_sharpe = -np.inf\n",
    "        val_sharpes = []\n",
    "        val_report = []\n",
    "\n",
    "        for name, model in models.items():\n",
    "            env_val = DummyVecEnv([lambda: CryptoTradingEnv(val_data, sentiment=True)])\n",
    "            sharpe_metrics = DRLAgent.DRL_evaluation(model=model, environment=env_val, lookback_days=0)\n",
    "            sharpe = sharpe_metrics[\"sharpe\"]\n",
    "            val_sharpes.append({\"name\": name, \"sharpe\": sharpe})\n",
    "\n",
    "            if not np.isnan(sharpe) and sharpe > best_sharpe:\n",
    "                best_model = model\n",
    "                best_sharpe = sharpe     \n",
    "\n",
    "        #  --- Trade start ---\n",
    "        env_trade = DummyVecEnv([lambda: CryptoTradingEnv(trade_data, sentiment=True)])\n",
    "        \n",
    "        if best_model is not None:\n",
    "                startdt = pd.to_datetime(trade_start)\n",
    "                env_trade.envs[0].trading_mode = True\n",
    "                df_result = DRLAgent.DRL_prediction(model=best_model, environment=env_trade, start_date=startdt, lookback_days=0)\n",
    "\n",
    "                df_result[\"window\"] = i + 1\n",
    "                \n",
    "                # concat for reporting\n",
    "                if \"account_values_df\" not in locals():\n",
    "                    account_values_df = df_result.copy()\n",
    "                else:\n",
    "                    account_values_df = pd.concat([account_values_df, df_result], ignore_index=True)\n",
    "\n",
    "                account_values = df_result[\"account_value\"].copy()         \n",
    "                #  get sharpe on an annualized basis,       \n",
    "                metrics = compute_sharpe_metrics(account_values, TRADING_DAYS_PER_YEAR=365)\n",
    "                sortino = compute_sortino_ratio(account_values)\n",
    "                # raw cumulative return\n",
    "                total_return = (account_values.iloc[-1] / account_values.iloc[0]) - 1\n",
    "\n",
    "                # volatility = daily_returns.std()\n",
    "                max_drawdown = (account_values.cummax() - account_values).max() / account_values.cummax().max()\n",
    "\n",
    "         \n",
    "                performance_log.append({\n",
    "                        \"agent\": best_model.__class__.__name__,\n",
    "                        \"window\": i + 1,\n",
    "                        \"train_start\": train_start.date(),\n",
    "                        \"train_end\": train_end.date(),\n",
    "                        \"val_start\": val_start.date(),\n",
    "                        \"val_end\": val_end.date(),\n",
    "                        \"trade_start\": trade_start.date(),\n",
    "                        \"trade_end\": trade_end.date(),\n",
    "                        \"sharpe (ann - trade)\": metrics[\"sharpe\"],\n",
    "                        \"sharpe (best - val)\" : best_sharpe,\n",
    "                        \"sortino\": sortino, \n",
    "                        \"min_account_value\": account_values.min(),\n",
    "                        \"max_account_value\": account_values.max(),\n",
    "                        \"total_return\": total_return,\n",
    "                        \"mean_return\": metrics[\"mean_return\"],\n",
    "                        \"volatility (std)\": metrics[\"std_return\"],\n",
    "                        \"max_drawdown\": max_drawdown,\n",
    "                        \"initial_acc_val\": account_values.iloc[0],\n",
    "                        \"final_acc_val\": account_values.iloc[-1],\n",
    "                        })\n",
    "        else:\n",
    "            print(f\"❌ No valid model selected in window {i+1} — skipping trade step.\")\n",
    "\n",
    "\n",
    "            #  --- Trade End ---\n",
    "\n",
    "            print(f\"✅ Window {i+1} Summary:\")\n",
    "            print(f\"  🔹 Train Dates : {train_start.date()} → {train_end.date()}\")\n",
    "            print(f\"  🔹 Trade Dates : {trade_start.date()} → {trade_end.date()}\")\n",
    "            print(f\"  🔹 Best Model  : {best_model.__class__.__name__ if best_model else 'None'}\")\n",
    "            print(f\"  🔹 Sharpe      : {best_sharpe:.2f}\")\n",
    "\n",
    "\n",
    "    \n",
    "\n",
    "\n"
   ]
  },
  {
   "cell_type": "markdown",
   "id": "219cecd3-3bdd-49f5-bc16-fe0f6d6a4dd3",
   "metadata": {
    "jp-MarkdownHeadingCollapsed": true
   },
   "source": [
    "  if val_report_metrics:\n",
    "        val_metrics = pd.DataFrame(val_report_metrics)\n",
    "        val_metrics.to_csv(val_results_path, index=False)\n",
    "        print(f\"Metrics saved to\", {val_results_path})\n",
    "        # display(val_report_metrics) - look for import matplotlib.pyplot as plt\n",
    "\n",
    "    else:\n",
    "        print(\"No validation report to analyze.\")"
   ]
  },
  {
   "cell_type": "code",
   "execution_count": 14,
   "id": "abd1683d-54a5-41e0-87b7-a1c593a6e3fb",
   "metadata": {},
   "outputs": [],
   "source": [
    "sen_trade_results_path = os.path.join(results_path, \"sen_trading_metrix.csv\")\n",
    "sen_daily_accounts_path = os.path.join(results_path, \"sen_account_values.csv\")"
   ]
  },
  {
   "cell_type": "code",
   "execution_count": 15,
   "id": "8dcf325b-7b7d-4eda-b680-71d3a4979f07",
   "metadata": {},
   "outputs": [
    {
     "name": "stdout",
     "output_type": "stream",
     "text": [
      "Trade Metrics saved to {'/home/derya/finrl_research/results/sen_account_values.csv'}\n",
      "Daily account values saved to {'/home/derya/finrl_research/results/sen_account_values.csv'}\n"
     ]
    }
   ],
   "source": [
    "df_metrics = pd.DataFrame(performance_log)\n",
    "df_metrics.to_csv(sen_trade_results_path, index=False)\n",
    "print(f\"Trade Metrics saved to\", {sen_daily_accounts_path})\n",
    "\n",
    "account_values_df.to_csv(sen_daily_accounts_path, index=False)\n",
    "print(f\"Daily account values saved to\", {sen_daily_accounts_path})"
   ]
  }
 ],
 "metadata": {
  "kernelspec": {
   "display_name": "Python 3 (ipykernel)",
   "language": "python",
   "name": "python3"
  },
  "language_info": {
   "codemirror_mode": {
    "name": "ipython",
    "version": 3
   },
   "file_extension": ".py",
   "mimetype": "text/x-python",
   "name": "python",
   "nbconvert_exporter": "python",
   "pygments_lexer": "ipython3",
   "version": "3.10.13"
  }
 },
 "nbformat": 4,
 "nbformat_minor": 5
}
